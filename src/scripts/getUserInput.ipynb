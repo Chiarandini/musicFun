{
 "cells": [
  {
   "cell_type": "code",
   "execution_count": 1,
   "metadata": {},
   "outputs": [],
   "source": [
    "import random\n",
    "import json"
   ]
  },
  {
   "cell_type": "code",
   "execution_count": 2,
   "metadata": {},
   "outputs": [],
   "source": [
    "with open(\"../json_files/questions.json\", \"r\") as file:\n",
    "    all_questions = json.load(file)\n",
    "\n",
    "with open(\"../json_files/valid_responses.json\", \"r\") as file:\n",
    "    all_valid_responses = json.load(file)"
   ]
  },
  {
   "cell_type": "code",
   "execution_count": 3,
   "metadata": {},
   "outputs": [],
   "source": [
    "def ask_user():\n",
    "    user_responses={}\n",
    "    for question in all_questions:\n",
    "        options = \"\\n\".join(all_questions[question][1])\n",
    "        valid_responses=all_valid_responses[0:len(all_questions[question][1])]\n",
    "        val=''\n",
    "        while val not in valid_responses:\n",
    "            val=input(f\"{all_questions[question][0]} \\n Please select one of the following options: \\n {options}\")\n",
    "            if val not in valid_responses:\n",
    "                print(f\"please make sure you type {', '.join(valid_responses[0:-1])} or {valid_responses[-1]}\")\n",
    "            else:\n",
    "                user_responses[question]=(val, all_questions[question])\n",
    "    return user_responses\n"
   ]
  },
  {
   "cell_type": "code",
   "execution_count": 4,
   "metadata": {},
   "outputs": [
    {
     "name": "stdout",
     "output_type": "stream",
     "text": [
      "please make sure you type a, b, c or d\n"
     ]
    },
    {
     "data": {
      "text/plain": [
       "{'q1': ('a', ['question', ['a', 'b', 'c', 'd', 'e']]),\n",
       " 'q2': ('a', ['question', ['a', 'b']]),\n",
       " 'q3': ('a', ['question', ['a', 'b', 'c', 'd']]),\n",
       " 'q4': ('a', ['question', ['a', 'b', 'c', 'd']]),\n",
       " 'q5': ('a', ['question', ['a', 'b', 'c', 'd']])}"
      ]
     },
     "execution_count": 4,
     "metadata": {},
     "output_type": "execute_result"
    }
   ],
   "source": [
    "user_responses = ask_user()\n",
    "user_responses"
   ]
  },
  {
   "cell_type": "code",
   "execution_count": 48,
   "metadata": {},
   "outputs": [],
   "source": [
    "# response"
   ]
  },
  {
   "cell_type": "code",
   "execution_count": 8,
   "metadata": {},
   "outputs": [],
   "source": [
    "with open(\"../json_files/prompts.json\", \"r\") as file:\n",
    "    all_prompts = json.load(file)\n"
   ]
  },
  {
   "cell_type": "code",
   "execution_count": 9,
   "metadata": {},
   "outputs": [],
   "source": [
    "def response_to_prompt(user_responses):\n",
    "    prompt_words=[]\n",
    "    for question in user_responses:\n",
    "            response=user_responses[question][0]\n",
    "            choice_adj_array = all_prompts[question][2][response]\n",
    "            prompt_word=random.choice(choice_adj_array)\n",
    "            prompt_words.append(prompt_word)\n",
    "    prompt_str=' '.join(prompt_words)\n",
    "    return (prompt_str)"
   ]
  },
  {
   "cell_type": "code",
   "execution_count": 12,
   "metadata": {},
   "outputs": [
    {
     "data": {
      "text/plain": [
       "'adj3 adj3 adj3 adj3 adj2'"
      ]
     },
     "execution_count": 12,
     "metadata": {},
     "output_type": "execute_result"
    }
   ],
   "source": [
    "input_to_prompt(user_responses)"
   ]
  },
  {
   "cell_type": "code",
   "execution_count": null,
   "metadata": {},
   "outputs": [],
   "source": []
  },
  {
   "cell_type": "code",
   "execution_count": null,
   "metadata": {},
   "outputs": [],
   "source": []
  }
 ],
 "metadata": {
  "kernelspec": {
   "display_name": "claryenv",
   "language": "python",
   "name": "python3"
  },
  "language_info": {
   "codemirror_mode": {
    "name": "ipython",
    "version": 3
   },
   "file_extension": ".py",
   "mimetype": "text/x-python",
   "name": "python",
   "nbconvert_exporter": "python",
   "pygments_lexer": "ipython3",
   "version": "3.11.4"
  }
 },
 "nbformat": 4,
 "nbformat_minor": 2
}
