{
 "cells": [
  {
   "cell_type": "code",
   "execution_count": 1,
   "metadata": {},
   "outputs": [],
   "source": [
    "class User:\n",
    "\n",
    "    \"\"\"represents a user object\n",
    "\n",
    "    Attributes:\n",
    "        responses: responses of the user to quiz questions\n",
    "        id: unique identifier\n",
    "    \"\"\"\n",
    "\n",
    "#todo: update once user object is created\n",
    "    def __init__(self, responses: dict):\n",
    "        # raw audio file object\n",
    "        self.responses = responses\n",
    "\n",
    "        #unique identifier\n",
    "        self._id: str\n",
    "\n",
    "    def __str__(self):\n",
    "        return str(self.__dict__)"
   ]
  },
  {
   "cell_type": "code",
   "execution_count": 2,
   "metadata": {},
   "outputs": [
    {
     "name": "stdout",
     "output_type": "stream",
     "text": [
      "{'responses': {'q1': 'a', 'q2': 'b'}}\n"
     ]
    }
   ],
   "source": [
    "user=User({\"q1\":\"a\", \"q2\":\"b\"})\n",
    "print(user)"
   ]
  }
 ],
 "metadata": {
  "kernelspec": {
   "display_name": "claryenv",
   "language": "python",
   "name": "python3"
  },
  "language_info": {
   "codemirror_mode": {
    "name": "ipython",
    "version": 3
   },
   "file_extension": ".py",
   "mimetype": "text/x-python",
   "name": "python",
   "nbconvert_exporter": "python",
   "pygments_lexer": "ipython3",
   "version": "3.11.4"
  }
 },
 "nbformat": 4,
 "nbformat_minor": 2
}
