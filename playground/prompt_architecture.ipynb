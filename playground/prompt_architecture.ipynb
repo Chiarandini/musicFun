{
 "cells": [
  {
   "cell_type": "code",
   "execution_count": 1,
   "metadata": {},
   "outputs": [],
   "source": [
    "import json\n",
    "\n",
    "promptsq1={\"a\":[\"adj1\", \"adj2\", \"adj3\"], \"b\":[\"adj1\", \"adj2\", \"adj3\"], \"c\":[\"adj1\", \"adj2\", \"adj3\"], \"d\":[\"adj1\", \"adj2\", \"adj3\"], \"e\":[\"adj1\", \"adj2\", \"adj3\"]}\n",
    "promptsq2={\"a\":[\"adj1\", \"adj2\", \"adj3\"], \"b\":[\"adj1\", \"adj2\", \"adj3\"], \"c\":[\"adj1\", \"adj2\", \"adj3\"], \"d\":[\"adj1\", \"adj2\", \"adj3\"]}\n",
    "promptsq3={\"a\":[\"adj1\", \"adj2\", \"adj3\"], \"b\":[\"adj1\", \"adj2\", \"adj3\"], \"c\":[\"adj1\", \"adj2\", \"adj3\"], \"d\":[\"adj1\", \"adj2\", \"adj3\"]}\n",
    "promptsq4={\"a\":[\"adj1\", \"adj2\", \"adj3\"], \"b\":[\"adj1\", \"adj2\", \"adj3\"], \"c\":[\"adj1\", \"adj2\", \"adj3\"], \"d\":[\"adj1\", \"adj2\", \"adj3\"]}\n",
    "promptsq5={\"a\":[\"adj1\", \"adj2\", \"adj3\"], \"b\":[\"adj1\", \"adj2\", \"adj3\"], \"c\":[\"adj1\", \"adj2\", \"adj3\"], \"d\":[\"adj1\", \"adj2\", \"adj3\"]}\n",
    "\n",
    "\n",
    "prompts={\"q1\":(\"question\", [\"a\", \"b\", \"c\", \"d\", \"e\"], promptsq1), \"q2\":(\"question\", [\"a\", \"b\"], promptsq2), \"q3\":(\"question\", [\"a\", \"b\", \"c\", \"d\"], promptsq3), \"q4\":(\"question\", [\"a\", \"b\", \"c\", \"d\"], promptsq4), \"q5\":(\"question\", [\"a\", \"b\", \"c\", \"d\"], promptsq5)}\n",
    "\n",
    "all_valid_responses=[\"a\", \"b\", \"c\", \"d\", \"e\", \"f\", \"g\", \"h\", \"i\", \"j\", \"k\", \"l\", \"m\", \"n\", \"o\", \"p\", \"q\", \"r\", \"s\", \"t\"]"
   ]
  },
  {
   "cell_type": "code",
   "execution_count": null,
   "metadata": {},
   "outputs": [],
   "source": [
    "json_str = json.dumps(prompts)\n"
   ]
  },
  {
   "cell_type": "code",
   "execution_count": null,
   "metadata": {},
   "outputs": [],
   "source": [
    "all_valid_responses=[\"a\", \"b\", \"c\", \"d\", \"e\", \"f\", \"g\", \"h\", \"i\", \"j\", \"k\", \"l\", \"m\", \"n\", \"o\", \"p\", \"q\", \"r\", \"s\", \"t\"]\n",
    "json_avr=json.dumps(all_valid_responses)\n",
    "print(json_avr)"
   ]
  }
 ],
 "metadata": {
  "kernelspec": {
   "display_name": "Python 3",
   "language": "python",
   "name": "python3"
  },
  "language_info": {
   "codemirror_mode": {
    "name": "ipython",
    "version": 3
   },
   "file_extension": ".py",
   "mimetype": "text/x-python",
   "name": "python",
   "nbconvert_exporter": "python",
   "pygments_lexer": "ipython3",
   "version": "3.11.4"
  }
 },
 "nbformat": 4,
 "nbformat_minor": 2
}
