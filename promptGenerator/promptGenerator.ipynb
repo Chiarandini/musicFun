{
 "cells": [
  {
   "cell_type": "code",
   "execution_count": 6,
   "metadata": {},
   "outputs": [],
   "source": [
    "import random"
   ]
  },
  {
   "cell_type": "code",
   "execution_count": 15,
   "metadata": {},
   "outputs": [],
   "source": [
    "\n",
    "\n",
    "promptsq1={\"a\":[\"adj1\", \"adj2\", \"adj3\"], \"b\":[\"adj1\", \"adj2\", \"adj3\"], \"c\":[\"adj1\", \"adj2\", \"adj3\"], \"d\":[\"adj1\", \"adj2\", \"adj3\"], \"e\":[\"adj1\", \"adj2\", \"adj3\"]}\n",
    "promptsq2={\"a\":[\"adj1\", \"adj2\", \"adj3\"], \"b\":[\"adj1\", \"adj2\", \"adj3\"], \"c\":[\"adj1\", \"adj2\", \"adj3\"], \"d\":[\"adj1\", \"adj2\", \"adj3\"]}\n",
    "promptsq3={\"a\":[\"adj1\", \"adj2\", \"adj3\"], \"b\":[\"adj1\", \"adj2\", \"adj3\"], \"c\":[\"adj1\", \"adj2\", \"adj3\"], \"d\":[\"adj1\", \"adj2\", \"adj3\"]}\n",
    "promptsq4={\"a\":[\"adj1\", \"adj2\", \"adj3\"], \"b\":[\"adj1\", \"adj2\", \"adj3\"], \"c\":[\"adj1\", \"adj2\", \"adj3\"], \"d\":[\"adj1\", \"adj2\", \"adj3\"]}\n",
    "promptsq5={\"a\":[\"adj1\", \"adj2\", \"adj3\"], \"b\":[\"adj1\", \"adj2\", \"adj3\"], \"c\":[\"adj1\", \"adj2\", \"adj3\"], \"d\":[\"adj1\", \"adj2\", \"adj3\"]}\n",
    "\n",
    "\n",
    "prompts={\"q1\":(\"question\", [\"a\", \"b\", \"c\", \"d\", \"e\"], promptsq1), \"q2\":(\"question\", [\"a\", \"b\"], promptsq2), \"q3\":(\"question\", [\"a\", \"b\", \"c\", \"d\"], promptsq3), \"q4\":(\"question\", [\"a\", \"b\", \"c\", \"d\"], promptsq4), \"q5\":(\"question\", [\"a\", \"b\", \"c\", \"d\"], promptsq5)}\n",
    "\n",
    "\n",
    "all_valid_responses=[\"a\", \"b\", \"c\", \"d\", \"e\", \"f\", \"g\", \"h\", \"i\", \"j\", \"k\", \"l\", \"m\", \"n\", \"o\", \"p\", \"q\", \"r\", \"s\", \"t\"]"
   ]
  },
  {
   "cell_type": "code",
   "execution_count": 16,
   "metadata": {},
   "outputs": [],
   "source": [
    "def create_prompt(question, val):\n",
    "    prompt_word=random.choice(prompts[question][2][val])\n",
    "    return prompt_word\n"
   ]
  },
  {
   "cell_type": "code",
   "execution_count": 17,
   "metadata": {},
   "outputs": [],
   "source": [
    "def input_to_prompt():\n",
    "    prompt_words=[]\n",
    "    for question in prompts:\n",
    "        responses = \"\\n\".join(prompts[question][1])\n",
    "        valid_responses=all_valid_responses[0:len(prompts[question][1])]\n",
    "        val=''\n",
    "        while val not in valid_responses:\n",
    "            val=input(f\"{question} \\n Please select one of the following options: \\n {responses}\")\n",
    "            if val not in valid_responses:\n",
    "                print(f\"please make sure you type {', '.join(valid_responses[0:-1])} or {valid_responses[-1]}\")\n",
    "            else:\n",
    "                prompt_words.append(create_prompt(question, val))\n",
    "    prompt_str=' '.join(prompt_words)\n",
    "    return prompt_str"
   ]
  },
  {
   "cell_type": "code",
   "execution_count": 18,
   "metadata": {},
   "outputs": [
    {
     "name": "stdout",
     "output_type": "stream",
     "text": [
      "please make sure you type a, b, c, d or e\n",
      "please make sure you type a or b\n"
     ]
    },
    {
     "data": {
      "text/plain": [
       "'adj3 adj3 adj2 adj2 adj3'"
      ]
     },
     "execution_count": 18,
     "metadata": {},
     "output_type": "execute_result"
    }
   ],
   "source": [
    "input_to_prompt()"
   ]
  },
  {
   "cell_type": "code",
   "execution_count": null,
   "metadata": {},
   "outputs": [],
   "source": []
  }
 ],
 "metadata": {
  "kernelspec": {
   "display_name": "Python 3",
   "language": "python",
   "name": "python3"
  },
  "language_info": {
   "codemirror_mode": {
    "name": "ipython",
    "version": 3
   },
   "file_extension": ".py",
   "mimetype": "text/x-python",
   "name": "python",
   "nbconvert_exporter": "python",
   "pygments_lexer": "ipython3",
   "version": "3.11.4"
  }
 },
 "nbformat": 4,
 "nbformat_minor": 2
}
