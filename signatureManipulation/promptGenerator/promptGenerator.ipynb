{
 "cells": [
  {
   "cell_type": "code",
   "execution_count": 1,
   "metadata": {},
   "outputs": [],
   "source": [
    "import random\n",
    "import json"
   ]
  },
  {
   "cell_type": "code",
   "execution_count": 2,
   "metadata": {},
   "outputs": [],
   "source": [
    "with open(\"prompts.json\", \"r\") as file:\n",
    "    all_prompts = json.load(file)\n",
    "\n",
    "with open(\"valid_responses.json\", \"r\") as file:\n",
    "    all_valid_responses = json.load(file)"
   ]
  },
  {
   "cell_type": "code",
   "execution_count": 3,
   "metadata": {},
   "outputs": [],
   "source": [
    "def create_prompt(question, val):\n",
    "    prompt_word=random.choice(all_prompts[question][2][val])\n",
    "    return prompt_word\n"
   ]
  },
  {
   "cell_type": "code",
   "execution_count": 6,
   "metadata": {},
   "outputs": [],
   "source": [
    "def input_to_prompt():\n",
    "    prompt_words=[]\n",
    "    user_responses=[]\n",
    "    for question in all_prompts:\n",
    "        responses = \"\\n\".join(all_prompts[question][1])\n",
    "        valid_responses=all_valid_responses[0:len(all_prompts[question][1])]\n",
    "        val=''\n",
    "        while val not in valid_responses:\n",
    "            val=input(f\"{question} \\n Please select one of the following options: \\n {responses}\")\n",
    "            if val not in valid_responses:\n",
    "                print(f\"please make sure you type {', '.join(valid_responses[0:-1])} or {valid_responses[-1]}\")\n",
    "            else:\n",
    "                user_responses.append(val)\n",
    "                prompt_words.append(create_prompt(question, val))\n",
    "    prompt_str=' '.join(prompt_words)\n",
    "    return (user_responses, prompt_str)"
   ]
  },
  {
   "cell_type": "code",
   "execution_count": 7,
   "metadata": {},
   "outputs": [
    {
     "data": {
      "text/plain": [
       "('adj2 adj3 adj2 adj1 adj3', ['a', 'a', 'a', 'a', 'a'])"
      ]
     },
     "execution_count": 7,
     "metadata": {},
     "output_type": "execute_result"
    }
   ],
   "source": [
    "input_to_prompt()"
   ]
  },
  {
   "cell_type": "code",
   "execution_count": null,
   "metadata": {},
   "outputs": [],
   "source": []
  }
 ],
 "metadata": {
  "kernelspec": {
   "display_name": "Python 3",
   "language": "python",
   "name": "python3"
  },
  "language_info": {
   "codemirror_mode": {
    "name": "ipython",
    "version": 3
   },
   "file_extension": ".py",
   "mimetype": "text/x-python",
   "name": "python",
   "nbconvert_exporter": "python",
   "pygments_lexer": "ipython3",
   "version": "3.11.4"
  }
 },
 "nbformat": 4,
 "nbformat_minor": 2
}
