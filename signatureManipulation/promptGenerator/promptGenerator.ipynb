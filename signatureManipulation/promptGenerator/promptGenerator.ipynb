{
 "cells": [
  {
   "cell_type": "code",
   "execution_count": 2,
   "metadata": {},
   "outputs": [],
   "source": [
    "import random"
   ]
  },
  {
   "cell_type": "code",
   "execution_count": 13,
   "metadata": {},
   "outputs": [],
   "source": [
    "\n",
    "\n",
    "responseq1={\"a\":[\"adj1\", \"adj2\", \"adj3\"], \"b\":[\"adj1\", \"adj2\", \"adj3\"], \"c\":[\"adj1\", \"adj2\", \"adj3\"], \"d\":[\"adj1\", \"adj2\", \"adj3\"]}\n",
    "responseq2={\"a\":[\"adj1\", \"adj2\", \"adj3\"], \"b\":[\"adj1\", \"adj2\", \"adj3\"], \"c\":[\"adj1\", \"adj2\", \"adj3\"], \"d\":[\"adj1\", \"adj2\", \"adj3\"]}\n",
    "responseq3={\"a\":[\"adj1\", \"adj2\", \"adj3\"], \"b\":[\"adj1\", \"adj2\", \"adj3\"], \"c\":[\"adj1\", \"adj2\", \"adj3\"], \"d\":[\"adj1\", \"adj2\", \"adj3\"]}\n",
    "responseq4={\"a\":[\"adj1\", \"adj2\", \"adj3\"], \"b\":[\"adj1\", \"adj2\", \"adj3\"], \"c\":[\"adj1\", \"adj2\", \"adj3\"], \"d\":[\"adj1\", \"adj2\", \"adj3\"]}\n",
    "responseq5={\"a\":[\"adj1\", \"adj2\", \"adj3\"], \"b\":[\"adj1\", \"adj2\", \"adj3\"], \"c\":[\"adj1\", \"adj2\", \"adj3\"], \"d\":[\"adj1\", \"adj2\", \"adj3\"]}\n",
    "\n",
    "\n",
    "prompts={\"question1\":([\"a\", \"b\", \"c\", \"d\"], responseq1), \"question2\":([\"a\", \"b\", \"c\", \"d\"], responseq2), \"question3\":([\"a\", \"b\", \"c\", \"d\"], responseq3), \"question4\":([\"a\", \"b\", \"c\", \"d\"], responseq4), \"question5\":([\"a\", \"b\", \"c\", \"d\"], responseq5)}\n",
    "\n",
    "\n",
    "# responses=[responseq1, responseq2, responseq3, responseq4, responseq5]\n",
    "\n",
    "valid_responses=[\"a\", \"b\", \"c\", \"d\"]"
   ]
  },
  {
   "cell_type": "code",
   "execution_count": 14,
   "metadata": {},
   "outputs": [],
   "source": [
    "def create_prompt(question, val):\n",
    "    prompt_word=random.choice(prompts[question][1][val])\n",
    "    return prompt_word\n"
   ]
  },
  {
   "cell_type": "code",
   "execution_count": 15,
   "metadata": {},
   "outputs": [],
   "source": [
    "def input_to_prompt():\n",
    "    prompt_words=[]\n",
    "    for question in prompts:\n",
    "        responses = \"\\n\".join(prompts[question][0])\n",
    "        val=''\n",
    "        while val not in valid_responses:\n",
    "            val=input(f\"{question} \\n Please select one of the following options: \\n {responses}\")\n",
    "            if val not in valid_responses:\n",
    "                print(\"please make sure you type a,b,c or d\")\n",
    "            else:\n",
    "                prompt_words.append(create_prompt(question, val))\n",
    "    prompt_str=' '.join(prompt_words)\n",
    "    return prompt_str"
   ]
  },
  {
   "cell_type": "code",
   "execution_count": 16,
   "metadata": {},
   "outputs": [
    {
     "name": "stdout",
     "output_type": "stream",
     "text": [
      "please make sure you type a,b,c or d\n"
     ]
    },
    {
     "data": {
      "text/plain": [
       "'adj3 adj1 adj3 adj1 adj1'"
      ]
     },
     "execution_count": 16,
     "metadata": {},
     "output_type": "execute_result"
    }
   ],
   "source": [
    "input_to_prompt()"
   ]
  },
  {
   "cell_type": "code",
   "execution_count": null,
   "metadata": {},
   "outputs": [],
   "source": []
  },
  {
   "cell_type": "code",
   "execution_count": null,
   "metadata": {},
   "outputs": [],
   "source": []
  },
  {
   "cell_type": "code",
   "execution_count": null,
   "metadata": {},
   "outputs": [],
   "source": []
  },
  {
   "cell_type": "code",
   "execution_count": null,
   "metadata": {},
   "outputs": [],
   "source": []
  },
  {
   "cell_type": "code",
   "execution_count": null,
   "metadata": {},
   "outputs": [],
   "source": []
  },
  {
   "cell_type": "code",
   "execution_count": null,
   "metadata": {},
   "outputs": [],
   "source": []
  },
  {
   "cell_type": "code",
   "execution_count": null,
   "metadata": {},
   "outputs": [],
   "source": []
  },
  {
   "cell_type": "code",
   "execution_count": null,
   "metadata": {},
   "outputs": [],
   "source": []
  }
 ],
 "metadata": {
  "kernelspec": {
   "display_name": "Python 3",
   "language": "python",
   "name": "python3"
  },
  "language_info": {
   "codemirror_mode": {
    "name": "ipython",
    "version": 3
   },
   "file_extension": ".py",
   "mimetype": "text/x-python",
   "name": "python",
   "nbconvert_exporter": "python",
   "pygments_lexer": "ipython3",
   "version": "3.11.4"
  }
 },
 "nbformat": 4,
 "nbformat_minor": 2
}
