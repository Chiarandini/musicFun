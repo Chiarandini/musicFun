{
 "cells": [
  {
   "cell_type": "code",
   "execution_count": 20,
   "metadata": {},
   "outputs": [],
   "source": [
    "import random\n",
    "import json"
   ]
  },
  {
   "cell_type": "code",
   "execution_count": 35,
   "metadata": {},
   "outputs": [],
   "source": [
    "with open(\"prompts.json\", \"r\") as file:\n",
    "    prompts = json.load(file)\n",
    "\n",
    "with open(\"valid_responses.json\", \"r\") as file:\n",
    "    all_valid_responses = json.load(file)"
   ]
  },
  {
   "cell_type": "code",
   "execution_count": 36,
   "metadata": {},
   "outputs": [],
   "source": [
    "def create_prompt(question, val):\n",
    "    prompt_word=random.choice(prompts[question][2][val])\n",
    "    return prompt_word\n"
   ]
  },
  {
   "cell_type": "code",
   "execution_count": 37,
   "metadata": {},
   "outputs": [],
   "source": [
    "def input_to_prompt():\n",
    "    prompt_words=[]\n",
    "    for question in prompts:\n",
    "        responses = \"\\n\".join(prompts[question][1])\n",
    "        valid_responses=all_valid_responses[0:len(prompts[question][1])]\n",
    "        val=''\n",
    "        while val not in valid_responses:\n",
    "            val=input(f\"{question} \\n Please select one of the following options: \\n {responses}\")\n",
    "            if val not in valid_responses:\n",
    "                print(f\"please make sure you type {', '.join(valid_responses[0:-1])} or {valid_responses[-1]}\")\n",
    "            else:\n",
    "                prompt_words.append(create_prompt(question, val))\n",
    "    prompt_str=' '.join(prompt_words)\n",
    "    return prompt_str"
   ]
  },
  {
   "cell_type": "code",
   "execution_count": 38,
   "metadata": {},
   "outputs": [
    {
     "name": "stdout",
     "output_type": "stream",
     "text": [
      "please make sure you type a, b, c, d or e\n",
      "please make sure you type a or b\n"
     ]
    },
    {
     "data": {
      "text/plain": [
       "'adj1 adj1 adj2 adj1 adj3'"
      ]
     },
     "execution_count": 38,
     "metadata": {},
     "output_type": "execute_result"
    }
   ],
   "source": [
    "input_to_prompt()"
   ]
  },
  {
   "cell_type": "code",
   "execution_count": null,
   "metadata": {},
   "outputs": [],
   "source": []
  }
 ],
 "metadata": {
  "kernelspec": {
   "display_name": "Python 3",
   "language": "python",
   "name": "python3"
  },
  "language_info": {
   "codemirror_mode": {
    "name": "ipython",
    "version": 3
   },
   "file_extension": ".py",
   "mimetype": "text/x-python",
   "name": "python",
   "nbconvert_exporter": "python",
   "pygments_lexer": "ipython3",
   "version": "3.11.4"
  }
 },
 "nbformat": 4,
 "nbformat_minor": 2
}
