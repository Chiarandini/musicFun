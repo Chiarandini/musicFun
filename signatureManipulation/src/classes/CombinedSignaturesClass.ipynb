{
 "cells": [
  {
   "cell_type": "code",
   "execution_count": 1,
   "metadata": {},
   "outputs": [],
   "source": [
    "from SignatureClass import SignatureClass\n",
    "\n",
    "\n",
    "class CombinedSignatureClass:\n",
    "\n",
    "    \"\"\"represents a signature object\n",
    "\n",
    "    Attributes:\n",
    "        signature_1: audio object for the raw audio\n",
    "        signature_2: information on the user whom the signature belongs to\n",
    "        id: unique identifier\n",
    "    \"\"\"\n",
    "\n",
    "#todo: update once user object is created\n",
    "    def __init__(self, signature_1: SignatureClass, signature_2: SignatureClass):\n",
    "        # raw audio file object\n",
    "        self.signature_1 = signature_1\n",
    "\n",
    "        # the AI-modified audio\n",
    "        self.signature_2 = signature_2\n",
    "\n",
    "        #unique identifier\n",
    "        self._id: str\n",
    "\n",
    "    def __str__(self):\n",
    "        return str(self.__dict__)\n",
    "\n",
    "\n"
   ]
  },
  {
   "cell_type": "code",
   "execution_count": 2,
   "metadata": {},
   "outputs": [
    {
     "name": "stdout",
     "output_type": "stream",
     "text": [
      "{'signature_1': <SignatureClass.SignatureClass object at 0x1065d4d10>, 'signature_2': <SignatureClass.SignatureClass object at 0x1065d4d10>}\n"
     ]
    }
   ],
   "source": [
    "from pydub.playback import play\n",
    "from pydub import AudioSegment\n",
    "from AudioClass import AudioClass\n",
    "\n",
    "raw_audio = AudioSegment.from_file('./../signatures/Signature-4_002.mp3')\n",
    "audio_obj=AudioClass(raw_audio, \"melodic\")\n",
    "signature_obj_1=SignatureClass(audio_obj, raw_audio, \"clara\", \"slow relaxing piano music smooth melodic\"  )\n",
    "signature_obj_2=signature_obj_1\n",
    "# play(raw_audio)\n",
    "print(CombinedSignatureClass(signature_obj_1, signature_obj_2))"
   ]
  },
  {
   "cell_type": "code",
   "execution_count": null,
   "metadata": {},
   "outputs": [],
   "source": []
  }
 ],
 "metadata": {
  "kernelspec": {
   "display_name": "claryenv",
   "language": "python",
   "name": "python3"
  },
  "language_info": {
   "codemirror_mode": {
    "name": "ipython",
    "version": 3
   },
   "file_extension": ".py",
   "mimetype": "text/x-python",
   "name": "python",
   "nbconvert_exporter": "python",
   "pygments_lexer": "ipython3",
   "version": "3.11.4"
  }
 },
 "nbformat": 4,
 "nbformat_minor": 2
}
