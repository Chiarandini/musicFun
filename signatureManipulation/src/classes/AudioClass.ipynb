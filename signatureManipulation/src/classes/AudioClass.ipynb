{
 "cells": [
  {
   "cell_type": "code",
   "execution_count": 2,
   "metadata": {},
   "outputs": [],
   "source": [
    "from pydub import AudioSegment\n",
    "\n",
    "class AudioClass:\n",
    "\n",
    "    \"\"\"raw audio information\n",
    "\n",
    "    Attributes:\n",
    "        raw_audio: The base audio-file generated manually\n",
    "        raw_audio_description: The text associated with the raw audio\n",
    "        id: unique identifier\n",
    "    \"\"\"\n",
    "\n",
    "    def __init__(self, raw_audio: AudioSegment, raw_audio_description: str = ''):\n",
    "        # raw audio file saved\n",
    "        self.raw_audio = raw_audio\n",
    "\n",
    "        # description acompanying audio file\n",
    "        self.raw_audio_description = raw_audio_description\n",
    "\n",
    "        #unique identifier\n",
    "        self._id: str\n",
    "\n",
    "    def __str__(self):\n",
    "        return str(self.__dict__)\n"
   ]
  },
  {
   "cell_type": "code",
   "execution_count": 3,
   "metadata": {},
   "outputs": [
    {
     "name": "stdout",
     "output_type": "stream",
     "text": [
      "{'raw_audio': <pydub.audio_segment.AudioSegment object at 0x111659c10>, 'raw_audio_description': 'melodic'}\n",
      "<class '__main__.audioClass'>\n"
     ]
    }
   ],
   "source": [
    "from pydub.playback import play\n",
    "raw_audio = AudioSegment.from_file('./../signatures/Signature-4_002.mp3')\n",
    "audio_obj=AudioClass(raw_audio, \"melodic\")\n",
    "# play(raw_audio)\n",
    "print(audio_obj)\n",
    "print(type(audio_obj))\n"
   ]
  },
  {
   "cell_type": "code",
   "execution_count": 9,
   "metadata": {},
   "outputs": [
    {
     "name": "stdout",
     "output_type": "stream",
     "text": [
      "<class 'function'>\n"
     ]
    }
   ],
   "source": [
    "print(type(play))"
   ]
  },
  {
   "cell_type": "code",
   "execution_count": null,
   "metadata": {},
   "outputs": [],
   "source": []
  }
 ],
 "metadata": {
  "kernelspec": {
   "display_name": "claryenv",
   "language": "python",
   "name": "python3"
  },
  "language_info": {
   "codemirror_mode": {
    "name": "ipython",
    "version": 3
   },
   "file_extension": ".py",
   "mimetype": "text/x-python",
   "name": "python",
   "nbconvert_exporter": "python",
   "pygments_lexer": "ipython3",
   "version": "3.11.4"
  }
 },
 "nbformat": 4,
 "nbformat_minor": 2
}
