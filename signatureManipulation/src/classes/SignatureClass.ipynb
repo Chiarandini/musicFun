{
 "cells": [
  {
   "cell_type": "code",
   "execution_count": 11,
   "metadata": {},
   "outputs": [],
   "source": [
    "from pydub import AudioSegment\n",
    "from AudioClass import AudioClass\n",
    "from UserClass import UserClass\n",
    "\n",
    "class SignatureClass:\n",
    "\n",
    "    \"\"\"represents a signature object\n",
    "\n",
    "    Attributes:\n",
    "        raw_audio_object: audio object for the raw audio\n",
    "        user_object: information on the user whom the signature belongs to\n",
    "        signature_audio: the AI generated audio information\n",
    "        text_prompt: The text-prompt used to generate the signature\n",
    "        id: unique identifier\n",
    "    \"\"\"\n",
    "\n",
    "#TODO: update once user object is created\n",
    "#TODO: test once AI audio is generated\n",
    "    def __init__(self, raw_audio_obj: AudioClass, signature_audio: AudioSegment, user: UserClass, ai_prompt: str =''):\n",
    "        # raw audio file object\n",
    "        self.raw_audio = raw_audio_obj\n",
    "\n",
    "        # the AI-modified audio\n",
    "        self.signature_audio = signature_audio\n",
    "\n",
    "        # text prompt used to generate signature\n",
    "        self.ai_prompt = ai_prompt\n",
    "\n",
    "        # user object information\n",
    "        self.user= user\n",
    "\n",
    "        #unique identifier\n",
    "        self._id: str\n",
    "\n",
    "\n",
    "    def __str__(self):\n",
    "        return str(self.__dict__)\n"
   ]
  },
  {
   "cell_type": "code",
   "execution_count": 12,
   "metadata": {},
   "outputs": [
    {
     "name": "stdout",
     "output_type": "stream",
     "text": [
      "{'raw_audio': <AudioClass.AudioClass object at 0x11049d0d0>, 'signature_audio': <pydub.audio_segment.AudioSegment object at 0x11212b9d0>, 'ai_prompt': 'slow relaxing piano music smooth melodic', 'user': <UserClass.UserClass object at 0x112114bd0>}\n"
     ]
    }
   ],
   "source": [
    "from pydub.playback import play\n",
    "\n",
    "raw_audio = AudioSegment.from_file('../../../signatures/Signature-4_002.mp3')\n",
    "audio_obj=AudioClass(raw_audio, \"melodic\")\n",
    "user=UserClass({\"q1\":\"a\", \"q2\":\"b\"})\n",
    "\n",
    "signature_obj=SignatureClass(audio_obj, raw_audio, user, \"slow relaxing piano music smooth melodic\"  )\n",
    "# play(raw_audio)\n",
    "print(signature_obj)\n"
   ]
  },
  {
   "cell_type": "code",
   "execution_count": null,
   "metadata": {},
   "outputs": [],
   "source": []
  }
 ],
 "metadata": {
  "kernelspec": {
   "display_name": "claryenv",
   "language": "python",
   "name": "python3"
  },
  "language_info": {
   "codemirror_mode": {
    "name": "ipython",
    "version": 3
   },
   "file_extension": ".py",
   "mimetype": "text/x-python",
   "name": "python",
   "nbconvert_exporter": "python",
   "pygments_lexer": "ipython3",
   "version": "3.11.4"
  }
 },
 "nbformat": 4,
 "nbformat_minor": 2
}
